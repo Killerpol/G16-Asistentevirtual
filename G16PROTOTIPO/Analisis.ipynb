{
 "cells": [
  {
   "cell_type": "code",
   "execution_count": 2,
   "metadata": {},
   "outputs": [],
   "source": [
    "\n",
    "#importando librerias necesarias\n",
    "import numpy as np\n",
    "import pandas as pd\n",
    "import matplotlib.pyplot as plt\n",
    "from matplotlib import style\n",
    "%matplotlib inline\n",
    "import seaborn as sns\n",
    "from scipy import stats\n",
    "from scipy.stats import chi2_contingency\n",
    "from scipy.stats import chi2\n",
    "#%pip install plotly-express\n",
    "\n"
   ]
  },
  {
   "cell_type": "code",
   "execution_count": 2,
   "metadata": {},
   "outputs": [],
   "source": [
    "#leer el archivo dataset \n",
    "dataset = pd.read_csv('amazonreviews.tsv', low_memory = False,sep ='\\t')"
   ]
  },
  {
   "cell_type": "code",
   "execution_count": 3,
   "metadata": {},
   "outputs": [
    {
     "data": {
      "text/html": [
       "<div>\n",
       "<style scoped>\n",
       "    .dataframe tbody tr th:only-of-type {\n",
       "        vertical-align: middle;\n",
       "    }\n",
       "\n",
       "    .dataframe tbody tr th {\n",
       "        vertical-align: top;\n",
       "    }\n",
       "\n",
       "    .dataframe thead th {\n",
       "        text-align: right;\n",
       "    }\n",
       "</style>\n",
       "<table border=\"1\" class=\"dataframe\">\n",
       "  <thead>\n",
       "    <tr style=\"text-align: right;\">\n",
       "      <th></th>\n",
       "      <th>label</th>\n",
       "      <th>review</th>\n",
       "    </tr>\n",
       "  </thead>\n",
       "  <tbody>\n",
       "    <tr>\n",
       "      <th>0</th>\n",
       "      <td>pos</td>\n",
       "      <td>Stuning even for the non-gamer: This sound tra...</td>\n",
       "    </tr>\n",
       "    <tr>\n",
       "      <th>1</th>\n",
       "      <td>pos</td>\n",
       "      <td>The best soundtrack ever to anything.: I'm rea...</td>\n",
       "    </tr>\n",
       "    <tr>\n",
       "      <th>2</th>\n",
       "      <td>pos</td>\n",
       "      <td>Amazing!: This soundtrack is my favorite music...</td>\n",
       "    </tr>\n",
       "    <tr>\n",
       "      <th>3</th>\n",
       "      <td>pos</td>\n",
       "      <td>Excellent Soundtrack: I truly like this soundt...</td>\n",
       "    </tr>\n",
       "    <tr>\n",
       "      <th>4</th>\n",
       "      <td>pos</td>\n",
       "      <td>Remember, Pull Your Jaw Off The Floor After He...</td>\n",
       "    </tr>\n",
       "  </tbody>\n",
       "</table>\n",
       "</div>"
      ],
      "text/plain": [
       "  label                                             review\n",
       "0   pos  Stuning even for the non-gamer: This sound tra...\n",
       "1   pos  The best soundtrack ever to anything.: I'm rea...\n",
       "2   pos  Amazing!: This soundtrack is my favorite music...\n",
       "3   pos  Excellent Soundtrack: I truly like this soundt...\n",
       "4   pos  Remember, Pull Your Jaw Off The Floor After He..."
      ]
     },
     "execution_count": 3,
     "metadata": {},
     "output_type": "execute_result"
    }
   ],
   "source": [
    "#Mostrar las cantidades de datos\n",
    "dataset.head(5)"
   ]
  },
  {
   "cell_type": "code",
   "execution_count": 4,
   "metadata": {},
   "outputs": [
    {
     "data": {
      "text/plain": [
       "(10000, 2)"
      ]
     },
     "execution_count": 4,
     "metadata": {},
     "output_type": "execute_result"
    }
   ],
   "source": [
    "#aplicada a un dataset en Python, específicamente a \n",
    "#una estructura de datos tipo array o DataFrame, devuelve \n",
    "#una tupla que indica las dimensiones del dataset. \n",
    "#La tupla contiene dos valores: el número de filas y el número de columnas del dataset. \n",
    "dataset.shape"
   ]
  },
  {
   "cell_type": "code",
   "execution_count": 5,
   "metadata": {},
   "outputs": [
    {
     "name": "stdout",
     "output_type": "stream",
     "text": [
      "<class 'pandas.core.frame.DataFrame'>\n",
      "RangeIndex: 10000 entries, 0 to 9999\n",
      "Data columns (total 2 columns):\n",
      " #   Column  Non-Null Count  Dtype \n",
      "---  ------  --------------  ----- \n",
      " 0   label   10000 non-null  object\n",
      " 1   review  10000 non-null  object\n",
      "dtypes: object(2)\n",
      "memory usage: 156.4+ KB\n"
     ]
    }
   ],
   "source": [
    "#informacion de dataset\n",
    "dataset.info()"
   ]
  },
  {
   "cell_type": "code",
   "execution_count": 6,
   "metadata": {},
   "outputs": [
    {
     "data": {
      "text/plain": [
       "<Axes: xlabel='label'>"
      ]
     },
     "execution_count": 6,
     "metadata": {},
     "output_type": "execute_result"
    },
    {
     "data": {
      "image/png": "[encoded data removed]",
      "text/plain": [
       "<Figure size 640x480 with 1 Axes>"
      ]
     },
     "metadata": {},
     "output_type": "display_data"
    }
   ],
   "source": [
    "#visualizar rápidamente la distribución de clases o categorías en una variable, \n",
    "#lo que puede ser especialmente útil en tareas de clasificación o análisis exploratorio de datos.\n",
    "\n",
    "dataset['label'].value_counts().plot(kind='bar')\n"
   ]
  },
  {
   "cell_type": "code",
   "execution_count": 7,
   "metadata": {},
   "outputs": [
    {
     "data": {
      "text/html": [
       "<div>\n",
       "<style scoped>\n",
       "    .dataframe tbody tr th:only-of-type {\n",
       "        vertical-align: middle;\n",
       "    }\n",
       "\n",
       "    .dataframe tbody tr th {\n",
       "        vertical-align: top;\n",
       "    }\n",
       "\n",
       "    .dataframe thead th {\n",
       "        text-align: right;\n",
       "    }\n",
       "</style>\n",
       "<table border=\"1\" class=\"dataframe\">\n",
       "  <thead>\n",
       "    <tr style=\"text-align: right;\">\n",
       "      <th></th>\n",
       "      <th>label</th>\n",
       "      <th>review</th>\n",
       "    </tr>\n",
       "  </thead>\n",
       "  <tbody>\n",
       "    <tr>\n",
       "      <th>count</th>\n",
       "      <td>10000</td>\n",
       "      <td>10000</td>\n",
       "    </tr>\n",
       "    <tr>\n",
       "      <th>unique</th>\n",
       "      <td>2</td>\n",
       "      <td>10000</td>\n",
       "    </tr>\n",
       "    <tr>\n",
       "      <th>top</th>\n",
       "      <td>neg</td>\n",
       "      <td>Stuning even for the non-gamer: This sound tra...</td>\n",
       "    </tr>\n",
       "    <tr>\n",
       "      <th>freq</th>\n",
       "      <td>5097</td>\n",
       "      <td>1</td>\n",
       "    </tr>\n",
       "  </tbody>\n",
       "</table>\n",
       "</div>"
      ],
      "text/plain": [
       "        label                                             review\n",
       "count   10000                                              10000\n",
       "unique      2                                              10000\n",
       "top       neg  Stuning even for the non-gamer: This sound tra...\n",
       "freq     5097                                                  1"
      ]
     },
     "execution_count": 7,
     "metadata": {},
     "output_type": "execute_result"
    }
   ],
   "source": [
    "#ayudar a identificar valores atípicos, detectar desequilibrios en la distribución de datos y \n",
    "#obtener una idea de la escala y la variabilidad de las variables numéricas.\n",
    "dataset.describe()"
   ]
  },
  {
   "cell_type": "code",
   "execution_count": null,
   "metadata": {},
   "outputs": [],
   "source": [
    "#HIPOTESIS"
   ]
  },
  {
   "attachments": {},
   "cell_type": "markdown",
   "metadata": {},
   "source": [
    "H0\n",
    " : no hay dificultad para usar la implementacion de un asistente virtual = 0\n",
    "\n",
    "H1\n",
    " : si hay dificultad para usar la implementacion de un asistente virtual ≠0"
   ]
  },
  {
   "cell_type": "code",
   "execution_count": 8,
   "metadata": {},
   "outputs": [
    {
     "data": {
      "text/plain": [
       "label\n",
       "neg    5097\n",
       "pos    4903\n",
       "dtype: int64"
      ]
     },
     "execution_count": 8,
     "metadata": {},
     "output_type": "execute_result"
    }
   ],
   "source": [
    "#permite contar la cantidad de registros o muestras asociadas a cada categoría o valor \n",
    "#único en la columna 'label', lo que es útil para realizar \n",
    "#análisis de distribución o explorar la frecuencia de diferentes categorías en el dataset.\n",
    "\n",
    "dataset.groupby('label').size()\n"
   ]
  },
  {
   "cell_type": "code",
   "execution_count": 9,
   "metadata": {},
   "outputs": [
    {
     "name": "stdout",
     "output_type": "stream",
     "text": [
      "review  !!!! Wrong MP3 files !!!!: The MP3 files downloadable from this site are not for Parsifal but Verdi's Traviata. Amazon needs to fix this urgently.  \\\n",
      "label                                                                                                                                                        \n",
      "neg                                                     1                                                                                                    \n",
      "pos                                                     0                                                                                                    \n",
      "\n",
      "review  $ Scam: The songs on Sliver are easily some of the best of the box but the completely ignored some of the best, also. Its said for me to watch the \"Nirvana Corp.\" aka Courtney Love to do something like this. Ultimately, if you don't realize that this is a shtik for $ then you must be confused. Nirvana released a best of cd and then a best of the box? Im just guessing but i think this is what the record company was saying:\"We'll throw a couple new songs on it and we'll get some true fans to buy it just to have it.\"It's been released for the cash. And this is something I know Kurt wouldnt have approved of. Hopefully someone takes this into consideration before buying it. yea,its good for the collection but its sad to see this is happening. I bought it for the cover art and stuff just to have for the collection nothing more. If your looking for some music get the actual box set.  \\\n",
      "label                                                                                                                                                                                                                                                                                                                                                                                                                                                                                                                                                                                                                                                                                                                                                                                                                                                                                                                              \n",
      "neg                                                     1                                                                                                                                                                                                                                                                                                                                                                                                                                                                                                                                                                                                                                                                                                                                                                                                                                                                          \n",
      "pos                                                     0                                                                                                                                                                                                                                                                                                                                                                                                                                                                                                                                                                                                                                                                                                                                                                                                                                                                          \n",
      "\n",
      "review  $25K warranty isn't included in packaging or at APC site: This product description is WRONG. I purchased this product because of this \"$25,000\" equipment warranty. Product received only states that the actual surge protector is under warranty and has no mention of equipment warranty. Is Amazon starting to make stuff up now?  \\\n",
      "label                                                                                                                                                                                                                                                                                                                                           \n",
      "neg                                                     1                                                                                                                                                                                                                                                                                       \n",
      "pos                                                     0                                                                                                                                                                                                                                                                                       \n",
      "\n",
      "review  (Panting sound): Whoa! This movie literally took my breath away. Its fast paced the whole time never letting up. The editing is brilliant and the cinematography is amazing. Forget the VHS get the DVD its cheaper and has extra scenes and interviews. The plot is like nothing ive ever seen before. Buy this and you won't regret it.  \\\n",
      "label                                                                                                                                                                                                                                                                                                                                               \n",
      "neg                                                     0                                                                                                                                                                                                                                                                                           \n",
      "pos                                                     1                                                                                                                                                                                                                                                                                           \n",
      "\n",
      "review  *** BEWARE ***: This TV is set so that it is not capable of a \"recall\" function. If you want to flash back between channels, this TV is not going to give it to you. The remote control that comes with the TV has no recall function, so I bought a Sony universal, which is a much better remote, that had the recall button on it. However, I soon learned that the TV is set at the factory to not have the capability to flash-back. It may not be a big deal to some, but this user found it very annoying.  \\\n",
      "label                                                                                                                                                                                                                                                                                                                                                                                                                                                                                                                       \n",
      "neg                                                     1                                                                                                                                                                                                                                                                                                                                                                                                                                                                   \n",
      "pos                                                     0                                                                                                                                                                                                                                                                                                                                                                                                                                                                   \n",
      "\n",
      "review  ******It Has It All********: Thank you Oprah for selecting this book. I absolutely loved it!I owned this novel for a few years before I actually sat down and read it. I often read the first page and felt it was dull - I was wrong. Solitude has become one of the best novels I've ever read. Garcia-Marquez not only includes vivid descriptions but also incorporates everything a novel should have from sibling rivalry, to war, loneliness, magic, humor, drama, incest, sex etc. Solitude is often mysterious and delves into all of our dark thoughts, while also showing our desires. I often found myself frustrated with the decisions the characters made yet understood why they made them.I cannot say enough about this wonderful novel, except I just regret waiting so long to enjoy it.  \\\n",
      "label                                                                                                                                                                                                                                                                                                                                                                                                                                                                                                                                                                                                                                                                                                                                                                                                                  \n",
      "neg                                                     0                                                                                                                                                                                                                                                                                                                                                                                                                                                                                                                                                                                                                                                                                                                                                              \n",
      "pos                                                     1                                                                                                                                                                                                                                                                                                                                                                                                                                                                                                                                                                                                                                                                                                                                                              \n",
      "\n",
      "review  **Great player, but but for newbies**: I personally like the control that the Zen Xtra gives you in organizing and classifying your music. It also creates playlists on the go for you (combining tracks by the same Artist, the same album, or same genre) for easy playback retrieval.The software that it comes with, Creative MediaSource, is great also, however may be a little complicated for new computer users. It lets you edit all track information (Artist, genre, album, track #) regardless of what ID3 tags were used when recording.Also do I need to remind you of the removable battery. Poor iPod users have to shell out almost $100 to get their battery serviced/replaced when its dead. Also you can store, data files, video files, etc. on the Zen Xtra (it's a portable hard drive also)The only negative is the buttons on the case are oddly positioned.Overall I don't recommend this item for newbies. But if you want great control and organization over your MP3s, this is definitely the player for you!!!  \\\n",
      "label                                                                                                                                                                                                                                                                                                                                                                                                                                                                                                                                                                                                                                                                                                                                                                                                                                                                                                                                                                                                                                                    \n",
      "neg                                                     0                                                                                                                                                                                                                                                                                                                                                                                                                                                                                                                                                                                                                                                                                                                                                                                                                                                                                                                                                                                                \n",
      "pos                                                     1                                                                                                                                                                                                                                                                                                                                                                                                                                                                                                                                                                                                                                                                                                                                                                                                                                                                                                                                                                                                \n",
      "\n",
      "review  *: Played game with 4 year old students- they loved it. It kept them guessing and were surprised every time.  \\\n",
      "label                                                                                                                  \n",
      "neg                                                     0                                                              \n",
      "pos                                                     1                                                              \n",
      "\n",
      "review  ... Ever After: C'mon. We've all read this stuff before: E.Lynn Harris. Bebe Moore Campbell. Terry McMillan. Ad Nauseum. And most have done it better. I don't know any black people who talk or act like these characters. They were like cardboard cartoon people. For all of her talk about \"cutting off\" her hair, Venus still was NOT NAPPY!! She had finely textured hair, for goodness sakes! She was even compared to Jada Pinkett by one of her close friends! The title was a ..., and I felt cheated as I read the book. As a matter of fact, I skipped to the end. Don't buy it, rent it from the library if you must.  \\\n",
      "label                                                                                                                                                                                                                                                                                                                                                                                                                                                                                                                                                                                                                                        \n",
      "neg                                                     1                                                                                                                                                                                                                                                                                                                                                                                                                                                                                                                                                                                    \n",
      "pos                                                     0                                                                                                                                                                                                                                                                                                                                                                                                                                                                                                                                                                                    \n",
      "\n",
      "review  ...: I purchased this book and attempted to use it as a resource for a trip to Cambodia in July 1999. The only current information in the entire country section was that Pol Pot has died. Cambodia is a fascinating place to visit...Too much has changed for this book to be of any use  \\\n",
      "label                                                                                                                                                                                                                                                                                                \n",
      "neg                                                     1                                                                                                                                                                                                                                            \n",
      "pos                                                     0                                                                                                                                                                                                                                            \n",
      "\n",
      "review  ...  \\\n",
      "label   ...   \n",
      "neg     ...   \n",
      "pos     ...   \n",
      "\n",
      "review  you pay less at the theater: Its just thye movie with no special features.I made the mistake of buying it. Had i known i would have never bought it. Avoid wait till the special features come out.  \\\n",
      "label                                                                                                                                                                                                         \n",
      "neg                                                     1                                                                                                                                                     \n",
      "pos                                                     0                                                                                                                                                     \n",
      "\n",
      "review  you will not be able to buils a timber frame house: This book vaguely breezed across history and went into various types of timber structures. The mortise and tenon joints that were illustrated were fascinating but not practical for a home builder.  \\\n",
      "label                                                                                                                                                                                                                                                              \n",
      "neg                                                     1                                                                                                                                                                                                          \n",
      "pos                                                     0                                                                                                                                                                                                          \n",
      "\n",
      "review  you'll be sorrry!: After 4.5 months, the adapter died. I contacted Macally about the one year warranty and learned :1. the only way they will issue a refund is if the adapter causes a fire!2. I needed to send the adapter to the manufacturer in California for them to evaluate--I would be without a power cord for a week. They said the replacement adapter might be refurbished.Ultimately, I went to the Apple store and purchased a Mac power cord.  \\\n",
      "label                                                                                                                                                                                                                                                                                                                                                                                                                                                                   \n",
      "neg                                                     1                                                                                                                                                                                                                                                                                                                                                                                                               \n",
      "pos                                                     0                                                                                                                                                                                                                                                                                                                                                                                                               \n",
      "\n",
      "review  young hockey fans: My 6 yr old grandson loves movies on my kindle fire--and hockey fans of all ages in our family love the mighty ducks. this movie is becoming a classic, plus ordering movies on kindle fire is fast and easy. we saw this movie in a theater years ago, and it is just as fresh and fast paced and as much fun on the small screen as it was in a movie theater. He and I watched this together, and laughed a lot.  \\\n",
      "label                                                                                                                                                                                                                                                                                                                                                                                                                                            \n",
      "neg                                                     0                                                                                                                                                                                                                                                                                                                                                                                        \n",
      "pos                                                     1                                                                                                                                                                                                                                                                                                                                                                                        \n",
      "\n",
      "review  zero customer service: I bought the system with the amplifier to run from one building to another (250 feet). It worked fine in the building the transmitter was located, but the quality completely fell apart once I crossed into the second building. I saw a forum where someone recommended a different high-gain antenna and tried contacting the company for suggestions for over a week with zero response. The tech support voice mailbox was full, the operator never answered the phone and I left repeated messages there. I tried e-mailing and calling every department I could locate. Half the phone numbers were disconnected and no response on the e-mails either.The product might have worked fine if I had a little tech support from the company. But as it stands I'm going on the assumption that RF-Link has gone out of business and so I'm returning my purchase.  \\\n",
      "label                                                                                                                                                                                                                                                                                                                                                                                                                                                                                                                                                                                                                                                                                                                                                                                                                                                                                                   \n",
      "neg                                                     1                                                                                                                                                                                                                                                                                                                                                                                                                                                                                                                                                                                                                                                                                                                                                                                                                                               \n",
      "pos                                                     0                                                                                                                                                                                                                                                                                                                                                                                                                                                                                                                                                                                                                                                                                                                                                                                                                                               \n",
      "\n",
      "review  zero durability: the felt top is so thin, my dog tore into it instantly! Next came out the foam bed, which she shredded into a million pieces, then she got to the inner cedar beds. Well you can imagine the mess it made.this bed lasted her a whole week. I cannot find anything for her. If you have an older, mellow dog, this would be a great bed. It is quite comfortable. But if you have a pooch that likes to destroy, this won't hole up at all.  \\\n",
      "label                                                                                                                                                                                                                                                                                                                                                                                                                                                                  \n",
      "neg                                                     1                                                                                                                                                                                                                                                                                                                                                                                                              \n",
      "pos                                                     0                                                                                                                                                                                                                                                                                                                                                                                                              \n",
      "\n",
      "review  zero star: those guys ARE OVERATED!! ARE THEY REALLY FUNNY? NOPE. STUDIOS PAY THEM MILLIONS OF DLSS FOR THIS!!! C'MON AMERICA.. WAKE UP!!!  \\\n",
      "label                                                                                                                                                \n",
      "neg                                                     1                                                                                            \n",
      "pos                                                     0                                                                                            \n",
      "\n",
      "review  zero stars - an absolute horror: This is the 2nd CD that I've purchased of rerecorded versions of Monty's 60s songs. This record label is crooked for putting a 60s photo of Monty on a CD that was clearly recorded in the 80s or 90s. Abysmal. Shameful. Vile. Criminal. An Abomination.  \\\n",
      "label                                                                                                                                                                                                                                                                                                \n",
      "neg                                                     1                                                                                                                                                                                                                                            \n",
      "pos                                                     0                                                                                                                                                                                                                                            \n",
      "\n",
      "review  zzzzzz.....: I am a huge fan of science fiction and fantasy, and have been reading these books for 20 years. I picked up the Foundation books because Asimov was supposed to be so great, and I really enjoyed his short stories. This book - all of the books in this series - is so amazingly boring it could be used to replace Thorazine. The concept was solid, but the characters made me not care at all. I kept hoping they would die simply so there would be something interesting happening. If you must read it, check it out from the library and save your money. Unless of course you're a chronic insomniac; then, by all means, buy this book.  \\\n",
      "label                                                                                                                                                                                                                                                                                                                                                                                                                                                                                                                                                                                                                                                                     \n",
      "neg                                                     1                                                                                                                                                                                                                                                                                                                                                                                                                                                                                                                                                                                                                 \n",
      "pos                                                     0                                                                                                                                                                                                                                                                                                                                                                                                                                                                                                                                                                                                                 \n",
      "\n",
      "review  ~ Erotic Fantasy ~: This is a lovely erotic fantasy. There are glimpses of BDSM but it is not \"hardcore\".Do not compare this book to the movie of the same name ~ The movie version is camped up & changed to make the story light & funny ~ The actual story in this book is not light and not funny, it is more of a complicated romance, between two people who don't realize how much they need each other.I thoroughly enjoyed this book and hopefully, you will too ~ and if you do, you may seriously want to pick up the Sleeping Beauty Trilogy.  \n",
      "label                                                                                                                                                                                                                                                                                                                                                                                                                                                                                                                                                              \n",
      "neg                                                     0                                                                                                                                                                                                                                                                                                                                                                                                                                                                                                          \n",
      "pos                                                     1                                                                                                                                                                                                                                                                                                                                                                                                                                                                                                          \n",
      "\n",
      "[2 rows x 10000 columns]\n"
     ]
    }
   ],
   "source": [
    "dataset_table= pd.crosstab(dataset['label'],dataset['review'])\n",
    "print(dataset_table)\n"
   ]
  },
  {
   "cell_type": "code",
   "execution_count": 10,
   "metadata": {},
   "outputs": [
    {
     "data": {
      "text/plain": [
       "array([[1, 1, 1, ..., 1, 1, 0],\n",
       "       [0, 0, 0, ..., 0, 0, 1]], dtype=int64)"
      ]
     },
     "execution_count": 10,
     "metadata": {},
     "output_type": "execute_result"
    }
   ],
   "source": [
    "#extraer los valores de un DataFrame para realizar operaciones numéricas o aplicar \n",
    "#otros cálculos que requieren una estructura de matriz NumPy. Al acceder directamente a los valores en \n",
    "#forma de matriz, se pueden aplicar funciones y operaciones de NumPy de manera más eficiente.\n",
    "dataset_table.values \n"
   ]
  },
  {
   "cell_type": "code",
   "execution_count": 11,
   "metadata": {},
   "outputs": [
    {
     "name": "stdout",
     "output_type": "stream",
     "text": [
      "Observed Values :-\n",
      " [[1 1 1 ... 1 1 0]\n",
      " [0 0 0 ... 0 0 1]]\n"
     ]
    }
   ],
   "source": [
    "Observed_Values = dataset_table.values \n",
    "print(\"Observed Values :-\\n\",Observed_Values)"
   ]
  },
  {
   "cell_type": "code",
   "execution_count": 12,
   "metadata": {},
   "outputs": [],
   "source": [
    "val=stats.chi2_contingency(dataset_table)\n"
   ]
  },
  {
   "cell_type": "code",
   "execution_count": 13,
   "metadata": {},
   "outputs": [
    {
     "data": {
      "text/plain": [
       "Chi2ContingencyResult(statistic=10000.0, pvalue=0.4952983945386835, dof=9999, expected_freq=array([[0.5097, 0.5097, 0.5097, ..., 0.5097, 0.5097, 0.5097],\n",
       "       [0.4903, 0.4903, 0.4903, ..., 0.4903, 0.4903, 0.4903]]))"
      ]
     },
     "execution_count": 13,
     "metadata": {},
     "output_type": "execute_result"
    }
   ],
   "source": [
    "val"
   ]
  },
  {
   "cell_type": "code",
   "execution_count": 14,
   "metadata": {},
   "outputs": [],
   "source": [
    "Expected_Values=val[3]\n"
   ]
  },
  {
   "cell_type": "code",
   "execution_count": 15,
   "metadata": {},
   "outputs": [
    {
     "name": "stdout",
     "output_type": "stream",
     "text": [
      "Degree of Freedom:- 1\n"
     ]
    }
   ],
   "source": [
    "no_of_rows=len(dataset_table.iloc[0:2,0])\n",
    "no_of_columns=len(dataset_table.iloc[0,0:2])\n",
    "ddof=(no_of_rows-1)*(no_of_columns-1)\n",
    "print(\"Degree of Freedom:-\",ddof)\n",
    "alpha = 0.05"
   ]
  },
  {
   "cell_type": "code",
   "execution_count": 16,
   "metadata": {},
   "outputs": [],
   "source": [
    "from scipy.stats import chi2\n",
    "chi_square=sum([(o-e)**2./e for o,e in zip(Observed_Values,Expected_Values)])\n",
    "chi_square_statistic=chi_square[0]+chi_square[1]\n",
    "     "
   ]
  },
  {
   "cell_type": "code",
   "execution_count": 17,
   "metadata": {},
   "outputs": [
    {
     "name": "stdout",
     "output_type": "stream",
     "text": [
      "chi-square statistic:- 1.9238767902687854\n"
     ]
    }
   ],
   "source": [
    "print(\"chi-square statistic:-\",chi_square_statistic)\n"
   ]
  },
  {
   "cell_type": "code",
   "execution_count": 18,
   "metadata": {},
   "outputs": [
    {
     "name": "stdout",
     "output_type": "stream",
     "text": [
      "critical_value: 3.841458820694124\n"
     ]
    }
   ],
   "source": [
    "critical_value=chi2.ppf(q=1-alpha,df=ddof)\n",
    "print('critical_value:',critical_value)"
   ]
  },
  {
   "cell_type": "code",
   "execution_count": 19,
   "metadata": {},
   "outputs": [
    {
     "name": "stdout",
     "output_type": "stream",
     "text": [
      "p-value: 0.16542991458250356\n",
      "Significance level:  0.05\n",
      "Degree of Freedom:  1\n"
     ]
    }
   ],
   "source": [
    "#p-value\n",
    "p_value=1-chi2.cdf(x=chi_square_statistic,df=ddof)\n",
    "print('p-value:',p_value)\n",
    "print('Significance level: ',alpha)\n",
    "print('Degree of Freedom: ',ddof)"
   ]
  },
  {
   "cell_type": "code",
   "execution_count": 84,
   "metadata": {},
   "outputs": [
    {
     "name": "stdout",
     "output_type": "stream",
     "text": [
      "Retain H0,There is no relationship between 2 categorical variables\n",
      "Retain H0,There is no relationship between 2 categorical variables\n"
     ]
    }
   ],
   "source": [
    "if chi_square_statistic>=critical_value:\n",
    "    print(\"Reject H0,There is a relationship between 2 categorical variables\")\n",
    "else:\n",
    "    print(\"Retain H0,There is no relationship between 2 categorical variables\")\n",
    "    \n",
    "if p_value<=alpha:\n",
    "    print(\"Reject H0,There is a relationship between 2 categorical variables\")\n",
    "else:\n",
    "    print(\"Retain H0,There is no relationship between 2 categorical variables\")\n",
    "\n",
    "#Retener H0, No hay relación entre 2 variables categóricas\n",
    "#Retener H0, No hay relación entre 2 variables categóricas"
   ]
  },
  {
   "cell_type": "code",
   "execution_count": 3,
   "metadata": {},
   "outputs": [
    {
     "data": {
      "text/html": [
       "<div>\n",
       "<style scoped>\n",
       "    .dataframe tbody tr th:only-of-type {\n",
       "        vertical-align: middle;\n",
       "    }\n",
       "\n",
       "    .dataframe tbody tr th {\n",
       "        vertical-align: top;\n",
       "    }\n",
       "\n",
       "    .dataframe thead th {\n",
       "        text-align: right;\n",
       "    }\n",
       "</style>\n",
       "<table border=\"1\" class=\"dataframe\">\n",
       "  <thead>\n",
       "    <tr style=\"text-align: right;\">\n",
       "      <th></th>\n",
       "      <th>label</th>\n",
       "      <th>review</th>\n",
       "    </tr>\n",
       "  </thead>\n",
       "  <tbody>\n",
       "    <tr>\n",
       "      <th>0</th>\n",
       "      <td>pos</td>\n",
       "      <td>Stuning even for the non-gamer: This sound tra...</td>\n",
       "    </tr>\n",
       "    <tr>\n",
       "      <th>1</th>\n",
       "      <td>pos</td>\n",
       "      <td>The best soundtrack ever to anything.: I'm rea...</td>\n",
       "    </tr>\n",
       "    <tr>\n",
       "      <th>2</th>\n",
       "      <td>pos</td>\n",
       "      <td>Amazing!: This soundtrack is my favorite music...</td>\n",
       "    </tr>\n",
       "    <tr>\n",
       "      <th>3</th>\n",
       "      <td>pos</td>\n",
       "      <td>Excellent Soundtrack: I truly like this soundt...</td>\n",
       "    </tr>\n",
       "    <tr>\n",
       "      <th>4</th>\n",
       "      <td>pos</td>\n",
       "      <td>Remember, Pull Your Jaw Off The Floor After He...</td>\n",
       "    </tr>\n",
       "  </tbody>\n",
       "</table>\n",
       "</div>"
      ],
      "text/plain": [
       "  label                                             review\n",
       "0   pos  Stuning even for the non-gamer: This sound tra...\n",
       "1   pos  The best soundtrack ever to anything.: I'm rea...\n",
       "2   pos  Amazing!: This soundtrack is my favorite music...\n",
       "3   pos  Excellent Soundtrack: I truly like this soundt...\n",
       "4   pos  Remember, Pull Your Jaw Off The Floor After He..."
      ]
     },
     "execution_count": 3,
     "metadata": {},
     "output_type": "execute_result"
    }
   ],
   "source": [
    "review_datos = pd.read_csv('amazonreviews.tsv', low_memory = False,sep ='\\t')\n",
    "review_datos.head(5)\n"
   ]
  },
  {
   "cell_type": "code",
   "execution_count": 4,
   "metadata": {},
   "outputs": [
    {
     "data": {
      "text/plain": [
       "(10000, 2)"
      ]
     },
     "execution_count": 4,
     "metadata": {},
     "output_type": "execute_result"
    }
   ],
   "source": [
    "review_datos.shape"
   ]
  },
  {
   "cell_type": "code",
   "execution_count": 5,
   "metadata": {},
   "outputs": [
    {
     "data": {
      "text/plain": [
       "label\n",
       "neg    5097\n",
       "pos    4903\n",
       "Name: count, dtype: int64"
      ]
     },
     "execution_count": 5,
     "metadata": {},
     "output_type": "execute_result"
    }
   ],
   "source": [
    "review_datos['label'].value_counts()\n"
   ]
  },
  {
   "cell_type": "code",
   "execution_count": 6,
   "metadata": {},
   "outputs": [],
   "source": [
    "review_datos.isnull().sum()\n",
    "review_datos.dropna(inplace=True)"
   ]
  },
  {
   "cell_type": "code",
   "execution_count": 7,
   "metadata": {},
   "outputs": [
    {
     "data": {
      "text/plain": [
       "<Axes: ylabel='count'>"
      ]
     },
     "execution_count": 7,
     "metadata": {},
     "output_type": "execute_result"
    },
    {
     "data": {
      "image/png": "[encoded data removed]",
      "text/plain": [
       "<Figure size 640x480 with 1 Axes>"
      ]
     },
     "metadata": {},
     "output_type": "display_data"
    }
   ],
   "source": [
    "review_datos['label'].value_counts().sort_values().plot(kind = 'pie')\n"
   ]
  },
  {
   "cell_type": "code",
   "execution_count": 8,
   "metadata": {},
   "outputs": [],
   "source": [
    "blanks = [] \n",
    "\n",
    "for i,lb,rv in review_datos.itertuples():  \n",
    "    if type(rv)==str:            \n",
    "        if rv.isspace():         \n",
    "            blanks.append(i)     \n",
    "        \n",
    "review_datos.drop(blanks, inplace=True)"
   ]
  },
  {
   "cell_type": "code",
   "execution_count": 9,
   "metadata": {},
   "outputs": [],
   "source": [
    "from sklearn.model_selection import train_test_split\n",
    "\n",
    "X=review_datos['review']\n",
    "y=review_datos['label']\n",
    "X_train, X_test, y_train, y_test =train_test_split(X, y, test_size=0.33, random_state=42)"
   ]
  },
  {
   "cell_type": "code",
   "execution_count": 21,
   "metadata": {},
   "outputs": [
    {
     "data": {
      "text/html": [
       "<style>#sk-container-id-1 {color: black;background-color: white;}#sk-container-id-1 pre{padding: 0;}#sk-container-id-1 div.sk-toggleable {background-color: white;}#sk-container-id-1 label.sk-toggleable__label {cursor: pointer;display: block;width: 100%;margin-bottom: 0;padding: 0.3em;box-sizing: border-box;text-align: center;}#sk-container-id-1 label.sk-toggleable__label-arrow:before {content: \"▸\";float: left;margin-right: 0.25em;color: #696969;}#sk-container-id-1 label.sk-toggleable__label-arrow:hover:before {color: black;}#sk-container-id-1 div.sk-estimator:hover label.sk-toggleable__label-arrow:before {color: black;}#sk-container-id-1 div.sk-toggleable__content {max-height: 0;max-width: 0;overflow: hidden;text-align: left;background-color: #f0f8ff;}#sk-container-id-1 div.sk-toggleable__content pre {margin: 0.2em;color: black;border-radius: 0.25em;background-color: #f0f8ff;}#sk-container-id-1 input.sk-toggleable__control:checked~div.sk-toggleable__content {max-height: 200px;max-width: 100%;overflow: auto;}#sk-container-id-1 input.sk-toggleable__control:checked~label.sk-toggleable__label-arrow:before {content: \"▾\";}#sk-container-id-1 div.sk-estimator input.sk-toggleable__control:checked~label.sk-toggleable__label {background-color: #d4ebff;}#sk-container-id-1 div.sk-label input.sk-toggleable__control:checked~label.sk-toggleable__label {background-color: #d4ebff;}#sk-container-id-1 input.sk-hidden--visually {border: 0;clip: rect(1px 1px 1px 1px);clip: rect(1px, 1px, 1px, 1px);height: 1px;margin: -1px;overflow: hidden;padding: 0;position: absolute;width: 1px;}#sk-container-id-1 div.sk-estimator {font-family: monospace;background-color: #f0f8ff;border: 1px dotted black;border-radius: 0.25em;box-sizing: border-box;margin-bottom: 0.5em;}#sk-container-id-1 div.sk-estimator:hover {background-color: #d4ebff;}#sk-container-id-1 div.sk-parallel-item::after {content: \"\";width: 100%;border-bottom: 1px solid gray;flex-grow: 1;}#sk-container-id-1 div.sk-label:hover label.sk-toggleable__label {background-color: #d4ebff;}#sk-container-id-1 div.sk-serial::before {content: \"\";position: absolute;border-left: 1px solid gray;box-sizing: border-box;top: 0;bottom: 0;left: 50%;z-index: 0;}#sk-container-id-1 div.sk-serial {display: flex;flex-direction: column;align-items: center;background-color: white;padding-right: 0.2em;padding-left: 0.2em;position: relative;}#sk-container-id-1 div.sk-item {position: relative;z-index: 1;}#sk-container-id-1 div.sk-parallel {display: flex;align-items: stretch;justify-content: center;background-color: white;position: relative;}#sk-container-id-1 div.sk-item::before, #sk-container-id-1 div.sk-parallel-item::before {content: \"\";position: absolute;border-left: 1px solid gray;box-sizing: border-box;top: 0;bottom: 0;left: 50%;z-index: -1;}#sk-container-id-1 div.sk-parallel-item {display: flex;flex-direction: column;z-index: 1;position: relative;background-color: white;}#sk-container-id-1 div.sk-parallel-item:first-child::after {align-self: flex-end;width: 50%;}#sk-container-id-1 div.sk-parallel-item:last-child::after {align-self: flex-start;width: 50%;}#sk-container-id-1 div.sk-parallel-item:only-child::after {width: 0;}#sk-container-id-1 div.sk-dashed-wrapped {border: 1px dashed gray;margin: 0 0.4em 0.5em 0.4em;box-sizing: border-box;padding-bottom: 0.4em;background-color: white;}#sk-container-id-1 div.sk-label label {font-family: monospace;font-weight: bold;display: inline-block;line-height: 1.2em;}#sk-container-id-1 div.sk-label-container {text-align: center;}#sk-container-id-1 div.sk-container {/* jupyter's `normalize.less` sets `[hidden] { display: none; }` but bootstrap.min.css set `[hidden] { display: none !important; }` so we also need the `!important` here to be able to override the default hidden behavior on the sphinx rendered scikit-learn.org. See: https://github.com/scikit-learn/scikit-learn/issues/21755 */display: inline-block !important;position: relative;}#sk-container-id-1 div.sk-text-repr-fallback {display: none;}</style><div id=\"sk-container-id-1\" class=\"sk-top-container\"><div class=\"sk-text-repr-fallback\"><pre>Pipeline(steps=[(&#x27;tfidf&#x27;, TfidfVectorizer(lowercase=False)),\n",
       "                (&#x27;clf&#x27;, LogisticRegression())])</pre><b>In a Jupyter environment, please rerun this cell to show the HTML representation or trust the notebook. <br />On GitHub, the HTML representation is unable to render, please try loading this page with nbviewer.org.</b></div><div class=\"sk-container\" hidden><div class=\"sk-item sk-dashed-wrapped\"><div class=\"sk-label-container\"><div class=\"sk-label sk-toggleable\"><input class=\"sk-toggleable__control sk-hidden--visually\" id=\"sk-estimator-id-1\" type=\"checkbox\" ><label for=\"sk-estimator-id-1\" class=\"sk-toggleable__label sk-toggleable__label-arrow\">Pipeline</label><div class=\"sk-toggleable__content\"><pre>Pipeline(steps=[(&#x27;tfidf&#x27;, TfidfVectorizer(lowercase=False)),\n",
       "                (&#x27;clf&#x27;, LogisticRegression())])</pre></div></div></div><div class=\"sk-serial\"><div class=\"sk-item\"><div class=\"sk-estimator sk-toggleable\"><input class=\"sk-toggleable__control sk-hidden--visually\" id=\"sk-estimator-id-2\" type=\"checkbox\" ><label for=\"sk-estimator-id-2\" class=\"sk-toggleable__label sk-toggleable__label-arrow\">TfidfVectorizer</label><div class=\"sk-toggleable__content\"><pre>TfidfVectorizer(lowercase=False)</pre></div></div></div><div class=\"sk-item\"><div class=\"sk-estimator sk-toggleable\"><input class=\"sk-toggleable__control sk-hidden--visually\" id=\"sk-estimator-id-3\" type=\"checkbox\" ><label for=\"sk-estimator-id-3\" class=\"sk-toggleable__label sk-toggleable__label-arrow\">LogisticRegression</label><div class=\"sk-toggleable__content\"><pre>LogisticRegression()</pre></div></div></div></div></div></div></div>"
      ],
      "text/plain": [
       "Pipeline(steps=[('tfidf', TfidfVectorizer(lowercase=False)),\n",
       "                ('clf', LogisticRegression())])"
      ]
     },
     "execution_count": 21,
     "metadata": {},
     "output_type": "execute_result"
    }
   ],
   "source": [
    "from sklearn.model_selection import train_test_split\n",
    "from sklearn.feature_extraction.text import TfidfVectorizer\n",
    "from sklearn.pipeline import Pipeline \n",
    "\n",
    "#Training the model \n",
    "from sklearn.linear_model import LogisticRegression\n",
    "# The pipeline: tf-idf vectorizer and logistic regression model  \n",
    "lr_model=Pipeline([('tfidf', TfidfVectorizer(lowercase=False)),( 'clf',LogisticRegression(solver='lbfgs'))])\n",
    "\n",
    "lr_model.fit(X_train,y_train)"
   ]
  },
  {
   "cell_type": "code",
   "execution_count": 22,
   "metadata": {},
   "outputs": [
    {
     "data": {
      "text/html": [
       "<style type=\"text/css\">\n",
       "#T_75346_row0_col0, #T_75346_row1_col1, #T_75346_row1_col2, #T_75346_row2_col2, #T_75346_row2_col3, #T_75346_row3_col2, #T_75346_row4_col2 {\n",
       "  background-color: #ebf3eb;\n",
       "  color: #000000;\n",
       "}\n",
       "#T_75346_row0_col1, #T_75346_row0_col2, #T_75346_row1_col0, #T_75346_row3_col3, #T_75346_row4_col3 {\n",
       "  background-color: #008000;\n",
       "  color: #f1f1f1;\n",
       "}\n",
       "#T_75346_row0_col3 {\n",
       "  background-color: #76ba76;\n",
       "  color: #f1f1f1;\n",
       "}\n",
       "#T_75346_row1_col3 {\n",
       "  background-color: #75b975;\n",
       "  color: #f1f1f1;\n",
       "}\n",
       "#T_75346_row2_col0, #T_75346_row3_col0, #T_75346_row4_col0 {\n",
       "  background-color: #9ccd9c;\n",
       "  color: #000000;\n",
       "}\n",
       "#T_75346_row2_col1, #T_75346_row3_col1, #T_75346_row4_col1 {\n",
       "  background-color: #8dc58d;\n",
       "  color: #000000;\n",
       "}\n",
       "</style>\n",
       "<table id=\"T_75346\">\n",
       "  <thead>\n",
       "    <tr>\n",
       "      <th class=\"blank level0\" >&nbsp;</th>\n",
       "      <th id=\"T_75346_level0_col0\" class=\"col_heading level0 col0\" >precision</th>\n",
       "      <th id=\"T_75346_level0_col1\" class=\"col_heading level0 col1\" >recall</th>\n",
       "      <th id=\"T_75346_level0_col2\" class=\"col_heading level0 col2\" >f1-score</th>\n",
       "      <th id=\"T_75346_level0_col3\" class=\"col_heading level0 col3\" >support</th>\n",
       "    </tr>\n",
       "  </thead>\n",
       "  <tbody>\n",
       "    <tr>\n",
       "      <th id=\"T_75346_level0_row0\" class=\"row_heading level0 row0\" >neg</th>\n",
       "      <td id=\"T_75346_row0_col0\" class=\"data row0 col0\" >0.840000</td>\n",
       "      <td id=\"T_75346_row0_col1\" class=\"data row0 col1\" >0.880000</td>\n",
       "      <td id=\"T_75346_row0_col2\" class=\"data row0 col2\" >0.860000</td>\n",
       "      <td id=\"T_75346_row0_col3\" class=\"data row0 col3\" >1649.000000</td>\n",
       "    </tr>\n",
       "    <tr>\n",
       "      <th id=\"T_75346_level0_row1\" class=\"row_heading level0 row1\" >pos</th>\n",
       "      <td id=\"T_75346_row1_col0\" class=\"data row1 col0\" >0.870000</td>\n",
       "      <td id=\"T_75346_row1_col1\" class=\"data row1 col1\" >0.830000</td>\n",
       "      <td id=\"T_75346_row1_col2\" class=\"data row1 col2\" >0.850000</td>\n",
       "      <td id=\"T_75346_row1_col3\" class=\"data row1 col3\" >1651.000000</td>\n",
       "    </tr>\n",
       "    <tr>\n",
       "      <th id=\"T_75346_level0_row2\" class=\"row_heading level0 row2\" >accuracy</th>\n",
       "      <td id=\"T_75346_row2_col0\" class=\"data row2 col0\" >0.850000</td>\n",
       "      <td id=\"T_75346_row2_col1\" class=\"data row2 col1\" >0.850000</td>\n",
       "      <td id=\"T_75346_row2_col2\" class=\"data row2 col2\" >0.850000</td>\n",
       "      <td id=\"T_75346_row2_col3\" class=\"data row2 col3\" >0.850000</td>\n",
       "    </tr>\n",
       "    <tr>\n",
       "      <th id=\"T_75346_level0_row3\" class=\"row_heading level0 row3\" >macro avg</th>\n",
       "      <td id=\"T_75346_row3_col0\" class=\"data row3 col0\" >0.850000</td>\n",
       "      <td id=\"T_75346_row3_col1\" class=\"data row3 col1\" >0.850000</td>\n",
       "      <td id=\"T_75346_row3_col2\" class=\"data row3 col2\" >0.850000</td>\n",
       "      <td id=\"T_75346_row3_col3\" class=\"data row3 col3\" >3300.000000</td>\n",
       "    </tr>\n",
       "    <tr>\n",
       "      <th id=\"T_75346_level0_row4\" class=\"row_heading level0 row4\" >weighted avg</th>\n",
       "      <td id=\"T_75346_row4_col0\" class=\"data row4 col0\" >0.850000</td>\n",
       "      <td id=\"T_75346_row4_col1\" class=\"data row4 col1\" >0.850000</td>\n",
       "      <td id=\"T_75346_row4_col2\" class=\"data row4 col2\" >0.850000</td>\n",
       "      <td id=\"T_75346_row4_col3\" class=\"data row4 col3\" >3300.000000</td>\n",
       "    </tr>\n",
       "  </tbody>\n",
       "</table>\n"
      ],
      "text/plain": [
       "<pandas.io.formats.style.Styler at 0x20e2bec3190>"
      ]
     },
     "execution_count": 22,
     "metadata": {},
     "output_type": "execute_result"
    }
   ],
   "source": [
    "#realiza predicciones con un modelo de regresión logística, genera un informe de clasificación, lo convierte en un DataFrame, y \n",
    "#aplica un estilo degradado de color verde para resaltar los valores del informe.\n",
    "from sklearn.metrics import accuracy_score, confusion_matrix, classification_report,ConfusionMatrixDisplay\n",
    "\n",
    "predictions= lr_model.predict(X_test)\n",
    "report = classification_report(y_test,predictions, output_dict=True)\n",
    "\n",
    "df_report = pd.DataFrame(report).transpose().round(2)\n",
    "\n",
    "cm = sns.light_palette(\"green\", as_cmap=True)\n",
    "df_report.style.background_gradient(cmap=cm)"
   ]
  },
  {
   "cell_type": "code",
   "execution_count": 23,
   "metadata": {},
   "outputs": [
    {
     "data": {
      "image/png": "[encoded data removed]",
      "text/plain": [
       "<Figure size 640x480 with 2 Axes>"
      ]
     },
     "metadata": {},
     "output_type": "display_data"
    }
   ],
   "source": [
    "#Visualizing Confusion Matrix \n",
    "import matplotlib.pyplot as plt\n",
    "ax= plt.subplot()\n",
    "cm=confusion_matrix(y_test,predictions)\n",
    "\n",
    "sns.heatmap(cm, annot=True, fmt='g', ax=ax,cmap='Greens');  \n",
    "\n",
    "\n",
    "ax.set_xlabel('Predicted labels');ax.set_ylabel('True labels');\n",
    "ax.set_title('Confusion Matrix');\n",
    "ax.xaxis.set_ticklabels(['neg', 'pos']); ax.yaxis.set_ticklabels(['neg', 'pos']);\n",
    "\n",
    "#En resumen, este código crea una matriz de confusión \n",
    "# utilizando los valores de prueba (y_test) y las \n",
    "# predicciones hechas por un modelo de clasificación \n",
    "# (predictions). Luego, utiliza seaborn y matplotlib \n",
    "# para visualizar la matriz de confusión como un mapa de \n",
    "# calor en una subtrama, con etiquetas adecuadas para los \n",
    "# ejes x e y, y un título para la subtrama."
   ]
  }
 ],
 "metadata": {
  "kernelspec": {
   "display_name": "Python 3",
   "language": "python",
   "name": "python3"
  },
  "language_info": {
   "codemirror_mode": {
    "name": "ipython",
    "version": 3
   },
   "file_extension": ".py",
   "mimetype": "text/x-python",
   "name": "python",
   "nbconvert_exporter": "python",
   "pygments_lexer": "ipython3",
   "version": "3.11.4"
  },
  "orig_nbformat": 4
 },
 "nbformat": 4,
 "nbformat_minor": 2
}
